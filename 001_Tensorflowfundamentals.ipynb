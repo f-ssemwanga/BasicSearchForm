{
  "nbformat": 4,
  "nbformat_minor": 0,
  "metadata": {
    "colab": {
      "provenance": [],
      "authorship_tag": "ABX9TyOG0RuVAZGk236qDix3PwTx",
      "include_colab_link": true
    },
    "kernelspec": {
      "name": "python3",
      "display_name": "Python 3"
    },
    "language_info": {
      "name": "python"
    }
  },
  "cells": [
    {
      "cell_type": "markdown",
      "metadata": {
        "id": "view-in-github",
        "colab_type": "text"
      },
      "source": [
        "<a href=\"https://colab.research.google.com/github/f-ssemwanga/BasicSearchForm/blob/master/001_Tensorflowfundamentals.ipynb\" target=\"_parent\"><img src=\"https://colab.research.google.com/assets/colab-badge.svg\" alt=\"Open In Colab\"/></a>"
      ]
    },
    {
      "cell_type": "markdown",
      "source": [
        "#fundamental concepts of tensors in tensorflow\n",
        "- introduction to tensors\n",
        "- getting information from tensors\n",
        "- changing info in tensors\n",
        "-tensors and NUMpy\n",
        "-using @tf.functions  (speeds up regular python functions)\n",
        "- using GPUs and TensorFlow ( or TPUs)\n",
        "- Exercises"
      ],
      "metadata": {
        "id": "YC5HkRcacdC1"
      }
    },
    {
      "cell_type": "markdown",
      "source": [
        "#Introduction to tensors using tf.constant"
      ],
      "metadata": {
        "id": "Yx_3qb1zd1SF"
      }
    },
    {
      "cell_type": "code",
      "source": [
        "#import TensorFlow\n",
        "import tensorflow as tf\n",
        "print(tf.__version__)"
      ],
      "metadata": {
        "colab": {
          "base_uri": "https://localhost:8080/"
        },
        "id": "wFWUzANhc_d-",
        "outputId": "0bb7c2ab-f1fd-495e-91b8-b97e234f5fa5"
      },
      "execution_count": 1,
      "outputs": [
        {
          "output_type": "stream",
          "name": "stdout",
          "text": [
            "2.11.0\n"
          ]
        }
      ]
    },
    {
      "cell_type": "code",
      "source": [
        "#Creating tensors with tf.constant()\n",
        "scalar = tf.constant(7)\n",
        "scalar"
      ],
      "metadata": {
        "colab": {
          "base_uri": "https://localhost:8080/"
        },
        "id": "P0rkHiD_eUIf",
        "outputId": "3c3a7490-f24c-4574-9678-9a8872114e07"
      },
      "execution_count": 2,
      "outputs": [
        {
          "output_type": "execute_result",
          "data": {
            "text/plain": [
              "<tf.Tensor: shape=(), dtype=int32, numpy=7>"
            ]
          },
          "metadata": {},
          "execution_count": 2
        }
      ]
    },
    {
      "cell_type": "code",
      "source": [
        "#check number of dimension (ndim stands for number of dimensions)\n",
        "scalar.ndim  # returns 0 because the shape attribute is shape()"
      ],
      "metadata": {
        "colab": {
          "base_uri": "https://localhost:8080/"
        },
        "id": "YIFCXpS6e147",
        "outputId": "80c61273-8a78-43b4-e1e4-3423e6fba558"
      },
      "execution_count": 3,
      "outputs": [
        {
          "output_type": "execute_result",
          "data": {
            "text/plain": [
              "0"
            ]
          },
          "metadata": {},
          "execution_count": 3
        }
      ]
    },
    {
      "cell_type": "code",
      "source": [
        "#create a vector\n",
        "vector = tf.constant([10, 10])\n",
        "vector"
      ],
      "metadata": {
        "colab": {
          "base_uri": "https://localhost:8080/"
        },
        "id": "XR_xjC9dfIwu",
        "outputId": "5db416ac-13fc-41b1-eae5-6db4ab5c25b9"
      },
      "execution_count": 4,
      "outputs": [
        {
          "output_type": "execute_result",
          "data": {
            "text/plain": [
              "<tf.Tensor: shape=(2,), dtype=int32, numpy=array([10, 10], dtype=int32)>"
            ]
          },
          "metadata": {},
          "execution_count": 4
        }
      ]
    },
    {
      "cell_type": "code",
      "source": [
        "#check dimension of the vector\n",
        "vector.ndim # look at the tuple in the shape of the vector above - it has one item"
      ],
      "metadata": {
        "colab": {
          "base_uri": "https://localhost:8080/"
        },
        "id": "B2uzlKuRfena",
        "outputId": "800de617-a15e-44fd-abd5-5d18afdbc5ba"
      },
      "execution_count": 5,
      "outputs": [
        {
          "output_type": "execute_result",
          "data": {
            "text/plain": [
              "1"
            ]
          },
          "metadata": {},
          "execution_count": 5
        }
      ]
    },
    {
      "cell_type": "code",
      "source": [
        "#create a matric ( has more than one dimension)\n",
        "matrix = tf.constant([\n",
        "    [10,7],\n",
        "    [7,10]\n",
        "])\n",
        "matrix"
      ],
      "metadata": {
        "colab": {
          "base_uri": "https://localhost:8080/"
        },
        "id": "G4z6nai4fqoV",
        "outputId": "82d1c92b-c740-4d1d-e48f-423c1181fdf3"
      },
      "execution_count": 6,
      "outputs": [
        {
          "output_type": "execute_result",
          "data": {
            "text/plain": [
              "<tf.Tensor: shape=(2, 2), dtype=int32, numpy=\n",
              "array([[10,  7],\n",
              "       [ 7, 10]], dtype=int32)>"
            ]
          },
          "metadata": {},
          "execution_count": 6
        }
      ]
    },
    {
      "cell_type": "code",
      "source": [
        "matrix.ndim"
      ],
      "metadata": {
        "colab": {
          "base_uri": "https://localhost:8080/"
        },
        "id": "oXZQQ5mNgbq3",
        "outputId": "eb075488-28bf-4632-99de-7bb8a1d353fc"
      },
      "execution_count": 7,
      "outputs": [
        {
          "output_type": "execute_result",
          "data": {
            "text/plain": [
              "2"
            ]
          },
          "metadata": {},
          "execution_count": 7
        }
      ]
    },
    {
      "cell_type": "code",
      "source": [
        "#create another matrix\n",
        "another_matrix =tf.constant([\n",
        "    [10.,7.],\n",
        "    [3.,2.],\n",
        "    [8.,9,]],dtype=tf.float16) \n",
        "'''\n",
        " specify the float data type - the higher the numer in dtype the lower the precision but less\n",
        " data is stored, the higher the number e.g. float32 the higher the precision but the larger \n",
        " the data'''\n",
        "another_matrix"
      ],
      "metadata": {
        "colab": {
          "base_uri": "https://localhost:8080/"
        },
        "id": "7cjIpIGughBg",
        "outputId": "08ac5de5-de8d-471a-a91f-f8f22b380252"
      },
      "execution_count": 9,
      "outputs": [
        {
          "output_type": "execute_result",
          "data": {
            "text/plain": [
              "<tf.Tensor: shape=(3, 2), dtype=float16, numpy=\n",
              "array([[10.,  7.],\n",
              "       [ 3.,  2.],\n",
              "       [ 8.,  9.]], dtype=float16)>"
            ]
          },
          "metadata": {},
          "execution_count": 9
        }
      ]
    },
    {
      "cell_type": "code",
      "source": [
        "#What is the number of dimensions of another_matrix?\n",
        "another_matrix.ndim"
      ],
      "metadata": {
        "colab": {
          "base_uri": "https://localhost:8080/"
        },
        "id": "Mp-PSiZ3iMl2",
        "outputId": "c65159d6-698a-48d0-8d76-dcd9b0757417"
      },
      "execution_count": 10,
      "outputs": [
        {
          "output_type": "execute_result",
          "data": {
            "text/plain": [
              "2"
            ]
          },
          "metadata": {},
          "execution_count": 10
        }
      ]
    },
    {
      "cell_type": "code",
      "source": [
        "#Increasing a number of dimensions\n",
        "'''\n",
        "Scaler = 1 dimension\n",
        "Matrix = 2 dimensions\n",
        "Tensor  = multi dimension ???\n",
        "'''\n",
        "#Creating a Tensor\n",
        "tensor = tf.constant([[[1,2,3],\n",
        "                        [4,5,6]],\n",
        "                      [[7,8,9],\n",
        "                        [10,11,12]],\n",
        "                    [[13,14,15],\n",
        "                      [16,17,18]]])\n",
        "tensor"
      ],
      "metadata": {
        "colab": {
          "base_uri": "https://localhost:8080/"
        },
        "id": "_u396kiljseU",
        "outputId": "c6a5ab59-5c68-4175-e5d9-e2c95ba86dda"
      },
      "execution_count": 12,
      "outputs": [
        {
          "output_type": "execute_result",
          "data": {
            "text/plain": [
              "<tf.Tensor: shape=(3, 2, 3), dtype=int32, numpy=\n",
              "array([[[ 1,  2,  3],\n",
              "        [ 4,  5,  6]],\n",
              "\n",
              "       [[ 7,  8,  9],\n",
              "        [10, 11, 12]],\n",
              "\n",
              "       [[13, 14, 15],\n",
              "        [16, 17, 18]]], dtype=int32)>"
            ]
          },
          "metadata": {},
          "execution_count": 12
        }
      ]
    },
    {
      "cell_type": "code",
      "source": [
        "#What is the dimensions of a tensor?\n",
        "tensor.ndim\n",
        "#"
      ],
      "metadata": {
        "colab": {
          "base_uri": "https://localhost:8080/"
        },
        "id": "cw_tK_lgk3ZV",
        "outputId": "5599daca-f57d-4a0f-9024-01df648c63c3"
      },
      "execution_count": 13,
      "outputs": [
        {
          "output_type": "execute_result",
          "data": {
            "text/plain": [
              "3"
            ]
          },
          "metadata": {},
          "execution_count": 13
        }
      ]
    },
    {
      "cell_type": "markdown",
      "source": [
        "#Summary Definitions\n",
        "* Scalar: a single number\n",
        "* Vector: a number with direction e.g. (wind speed and direction\n",
        "* Matrix a 2D array of numbers\n",
        "*Tensor is an n-dimesional array of numbers"
      ],
      "metadata": {
        "id": "2jIKrnQcm0lE"
      }
    },
    {
      "cell_type": "markdown",
      "source": [
        "#Creating Tensors using tf.variable"
      ],
      "metadata": {
        "id": "b0fNwg9Onylh"
      }
    },
    {
      "cell_type": "code",
      "source": [],
      "metadata": {
        "id": "RHcuD-tAn2An"
      },
      "execution_count": null,
      "outputs": []
    }
  ]
}